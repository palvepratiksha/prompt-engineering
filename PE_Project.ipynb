{
  "nbformat": 4,
  "nbformat_minor": 0,
  "metadata": {
    "colab": {
      "provenance": [],
      "mount_file_id": "1NisdHPJ8EXIWbVhAKczi_o1rbhQHpr_C",
      "authorship_tag": "ABX9TyNl+wTVARTgvmvjvZFLuxjS",
      "include_colab_link": true
    },
    "kernelspec": {
      "name": "python3",
      "display_name": "Python 3"
    },
    "language_info": {
      "name": "python"
    }
  },
  "cells": [
    {
      "cell_type": "markdown",
      "metadata": {
        "id": "view-in-github",
        "colab_type": "text"
      },
      "source": [
        "<a href=\"https://colab.research.google.com/github/palvepratiksha/prompt-engineering/blob/main/PE_Project.ipynb\" target=\"_parent\"><img src=\"https://colab.research.google.com/assets/colab-badge.svg\" alt=\"Open In Colab\"/></a>"
      ]
    },
    {
      "cell_type": "code",
      "source": [
        "\n",
        "!pip install openai\n",
        "!pip install requests\n",
        "import openai\n",
        "import requests\n",
        "from openai import OpenAI"
      ],
      "metadata": {
        "colab": {
          "base_uri": "https://localhost:8080/"
        },
        "id": "x04YoPGvqjf0",
        "outputId": "0024375a-b46e-4213-ddda-d9ffea871f6c"
      },
      "execution_count": null,
      "outputs": [
        {
          "output_type": "stream",
          "name": "stdout",
          "text": [
            "Requirement already satisfied: openai in /usr/local/lib/python3.10/dist-packages (1.54.4)\n",
            "Requirement already satisfied: anyio<5,>=3.5.0 in /usr/local/lib/python3.10/dist-packages (from openai) (3.7.1)\n",
            "Requirement already satisfied: distro<2,>=1.7.0 in /usr/local/lib/python3.10/dist-packages (from openai) (1.9.0)\n",
            "Requirement already satisfied: httpx<1,>=0.23.0 in /usr/local/lib/python3.10/dist-packages (from openai) (0.27.2)\n",
            "Requirement already satisfied: jiter<1,>=0.4.0 in /usr/local/lib/python3.10/dist-packages (from openai) (0.7.1)\n",
            "Requirement already satisfied: pydantic<3,>=1.9.0 in /usr/local/lib/python3.10/dist-packages (from openai) (2.9.2)\n",
            "Requirement already satisfied: sniffio in /usr/local/lib/python3.10/dist-packages (from openai) (1.3.1)\n",
            "Requirement already satisfied: tqdm>4 in /usr/local/lib/python3.10/dist-packages (from openai) (4.66.6)\n",
            "Requirement already satisfied: typing-extensions<5,>=4.11 in /usr/local/lib/python3.10/dist-packages (from openai) (4.12.2)\n",
            "Requirement already satisfied: idna>=2.8 in /usr/local/lib/python3.10/dist-packages (from anyio<5,>=3.5.0->openai) (3.10)\n",
            "Requirement already satisfied: exceptiongroup in /usr/local/lib/python3.10/dist-packages (from anyio<5,>=3.5.0->openai) (1.2.2)\n",
            "Requirement already satisfied: certifi in /usr/local/lib/python3.10/dist-packages (from httpx<1,>=0.23.0->openai) (2024.8.30)\n",
            "Requirement already satisfied: httpcore==1.* in /usr/local/lib/python3.10/dist-packages (from httpx<1,>=0.23.0->openai) (1.0.6)\n",
            "Requirement already satisfied: h11<0.15,>=0.13 in /usr/local/lib/python3.10/dist-packages (from httpcore==1.*->httpx<1,>=0.23.0->openai) (0.14.0)\n",
            "Requirement already satisfied: annotated-types>=0.6.0 in /usr/local/lib/python3.10/dist-packages (from pydantic<3,>=1.9.0->openai) (0.7.0)\n",
            "Requirement already satisfied: pydantic-core==2.23.4 in /usr/local/lib/python3.10/dist-packages (from pydantic<3,>=1.9.0->openai) (2.23.4)\n",
            "Requirement already satisfied: requests in /usr/local/lib/python3.10/dist-packages (2.32.3)\n",
            "Requirement already satisfied: charset-normalizer<4,>=2 in /usr/local/lib/python3.10/dist-packages (from requests) (3.4.0)\n",
            "Requirement already satisfied: idna<4,>=2.5 in /usr/local/lib/python3.10/dist-packages (from requests) (3.10)\n",
            "Requirement already satisfied: urllib3<3,>=1.21.1 in /usr/local/lib/python3.10/dist-packages (from requests) (2.2.3)\n",
            "Requirement already satisfied: certifi>=2017.4.17 in /usr/local/lib/python3.10/dist-packages (from requests) (2024.8.30)\n"
          ]
        }
      ]
    },
    {
      "source": [
        "import pandas as pd\n",
        "# Load dataset\n",
        "# Replace with the correct path to your file\n",
        "file_path = '/content/drive/MyDrive/Colab Notebooks/Top Indian Places to Visit.csv'\n",
        "df = pd.read_csv(file_path)\n",
        "\n",
        "# Check if 'Region' column exists before processing\n",
        "if 'Zone' in df.columns:\n",
        "\n",
        "    # Clean and preprocess\n",
        "    df['Zone'] = df['Zone'].str.strip().str.title()\n",
        "    df['Best Time to visit'] = df['Best Time to visit'].str.strip()\n",
        "else:\n",
        "    print(\"Column 'Zone' not found in the DataFrame.\")\n",
        "print(df.head())"
      ],
      "cell_type": "code",
      "metadata": {
        "colab": {
          "base_uri": "https://localhost:8080/"
        },
        "id": "cUxBgr6Qg042",
        "outputId": "cef9ee4c-cb34-4e3c-c44c-db400e4c75a4"
      },
      "execution_count": null,
      "outputs": [
        {
          "output_type": "stream",
          "name": "stdout",
          "text": [
            "   Unnamed: 0      Zone  State   City                  Name          Type  \\\n",
            "0           0  Northern  Delhi  Delhi            India Gate  War Memorial   \n",
            "1           1  Northern  Delhi  Delhi        Humayun's Tomb          Tomb   \n",
            "2           2  Northern  Delhi  Delhi     Akshardham Temple        Temple   \n",
            "3           3  Northern  Delhi  Delhi  Waste to Wonder Park    Theme Park   \n",
            "4           4  Northern  Delhi  Delhi         Jantar Mantar   Observatory   \n",
            "\n",
            "  Establishment Year  time needed to visit in hrs  Google review rating  \\\n",
            "0               1921                          0.5                   4.6   \n",
            "1               1572                          2.0                   4.5   \n",
            "2               2005                          5.0                   4.6   \n",
            "3               2019                          2.0                   4.1   \n",
            "4               1724                          2.0                   4.2   \n",
            "\n",
            "   Entrance Fee in INR Airport with 50km Radius Weekly Off   Significance  \\\n",
            "0                    0                      Yes        NaN     Historical   \n",
            "1                   30                      Yes        NaN     Historical   \n",
            "2                   60                      Yes        NaN      Religious   \n",
            "3                   50                      Yes     Monday  Environmental   \n",
            "4                   15                      Yes        NaN     Scientific   \n",
            "\n",
            "  DSLR Allowed  Number of google review in lakhs Best Time to visit  \n",
            "0          Yes                              2.60            Evening  \n",
            "1          Yes                              0.40          Afternoon  \n",
            "2           No                              0.40          Afternoon  \n",
            "3          Yes                              0.27            Evening  \n",
            "4          Yes                              0.31            Morning  \n"
          ]
        }
      ]
    },
    {
      "cell_type": "code",
      "source": [
        "# Generate a detailed itinerary using OpenAI's GPT\n",
        "def generate_itinerary(location, recommendations):\n",
        "    prompt = (\n",
        "        f\"You are a knowledgeable tourist guide. Based on the following recommendations for {location}:\\n\"\n",
        "    )\n",
        "    for index, row in recommendations.iterrows():\n",
        "        prompt += f\" - {row['Name']}: {row['Type']}\\n\"\n",
        "        prompt += f\"   - {row['Establishment Year']}\\n\"\n",
        "        prompt += f\"   - {row['Significance']}\\n\"\n",
        "        prompt += f\"   - {row['Best Time to visit']}\\n\"\n",
        "    prompt += \"Create a 3-day itinerary for someone visiting these places.\""
      ],
      "metadata": {
        "id": "wsa19xGuqhvs"
      },
      "execution_count": null,
      "outputs": []
    },
    {
      "cell_type": "code",
      "source": [
        "from flask import Flask, request, jsonify\n",
        "import pandas as pd\n",
        "app = Flask(__name__)\n",
        "df = pd.read_csv('/content/drive/MyDrive/Colab Notebooks/Top Indian Places to Visit.csv')\n",
        "df['Zone'] = df['Zone'].str.strip().str.title()\n",
        "df['Best Time to visit'] = df['Best Time to visit'].str.strip()\n",
        "\n",
        "@app.route('/recommend', methods=['POST'])\n",
        "def recommend():\n",
        "    data = request.json\n",
        "    region = data.get('region')\n",
        "    budget = data.get('budget')\n",
        "    interests = data.get('interests')\n",
        "\n",
        "    # Filter dataset\n",
        "    recommendations = df[(df['Region'] == region.title()) & (df['Budget'] == budget.title())]\n",
        "    return recommendations[['Destination', 'Attractions', 'Ratings']].to_dict(orient='records')\n",
        "\n",
        "@app.route('/itinerary', methods=['POST'])\n",
        "def itinerary():\n",
        "    data = request.json\n",
        "    destination = data.get('destination')\n",
        "    days = data.get('days')\n",
        "    interests = data.get('interests')\n",
        "    budget = data.get('budget')\n",
        "\n",
        "    itinerary = generate_itinerary(destination, days, interests, budget)\n",
        "    return jsonify({'itinerary': itinerary})\n",
        "\n",
        "if __name__ == \"__main__\":\n",
        "    app.run(debug=True)\n"
      ],
      "metadata": {
        "colab": {
          "base_uri": "https://localhost:8080/"
        },
        "id": "4pYTsJwcl_Hk",
        "outputId": "2ca9c4ac-271e-497f-835a-85dd7ac25a08"
      },
      "execution_count": null,
      "outputs": [
        {
          "output_type": "stream",
          "name": "stdout",
          "text": [
            " * Serving Flask app '__main__'\n",
            " * Debug mode: on\n"
          ]
        },
        {
          "output_type": "stream",
          "name": "stderr",
          "text": [
            "INFO:werkzeug:\u001b[31m\u001b[1mWARNING: This is a development server. Do not use it in a production deployment. Use a production WSGI server instead.\u001b[0m\n",
            " * Running on http://127.0.0.1:5000\n",
            "INFO:werkzeug:\u001b[33mPress CTRL+C to quit\u001b[0m\n",
            "INFO:werkzeug: * Restarting with watchdog (inotify)\n"
          ]
        }
      ]
    },
    {
      "cell_type": "code",
      "source": [
        "!streamlit run ui.py\n"
      ],
      "metadata": {
        "colab": {
          "base_uri": "https://localhost:8080/"
        },
        "id": "WxznMCUkt5-F",
        "outputId": "bd934fcc-0839-4b6a-f263-481ef1d9d734"
      },
      "execution_count": null,
      "outputs": [
        {
          "output_type": "stream",
          "name": "stdout",
          "text": [
            "Usage: streamlit run [OPTIONS] TARGET [ARGS]...\n",
            "Try 'streamlit run --help' for help.\n",
            "\n",
            "Error: Invalid value: File does not exist: ui.py\n"
          ]
        }
      ]
    },
    {
      "cell_type": "code",
      "source": [],
      "metadata": {
        "id": "UzSHG2ypyQdT"
      },
      "execution_count": null,
      "outputs": []
    },
    {
      "cell_type": "code",
      "source": [
        "import streamlit as st\n",
        "import requests\n",
        "\n",
        "st.title(\"AI Travel Guide for India\")\n",
        "\n",
        "# Inputs\n",
        "region = st.selectbox(\"Select Region\", [\"North\", \"South\", \"East\", \"West\", \"Central\"])\n",
        "budget = st.selectbox(\"Select Budget\", [\"Low\", \"Medium\", \"High\"])\n",
        "interests = st.text_area(\"Your Interests\", \"Culture, Nature\")\n",
        "days = st.slider(\"Number of Days\", 1, 14, 5)\n",
        "destination = st.text_input(\"Destination (optional)\", \"\")\n",
        "\n",
        "# Recommendation\n",
        "if st.button(\"Get Recommendations\"):\n",
        "    response = requests.post(\"http://127.0.0.1:5000/recommend\", json={\"region\": region, \"budget\": budget, \"interests\": interests})\n",
        "    recommendations = response.json()\n",
        "    st.write(\"### Recommended Destinations:\")\n",
        "    for rec in recommendations:\n",
        "        st.write(f\"- {rec['Destination']} (Attractions: {rec['Attractions']}, Ratings: {rec['Ratings']})\")\n",
        "\n",
        "# Itinerary\n",
        "if st.button(\"Generate Itinerary\"):\n",
        "    if not destination:\n",
        "        st.error(\"Please enter a destination for itinerary generation!\")\n",
        "    else:\n",
        "        response = requests.post(\"http://127.0.0.1:5000/itinerary\", json={\"destination\": destination, \"days\": days, \"interests\": interests, \"budget\": budget})\n",
        "        st.write(\"### Generated Itinerary:\")\n",
        "        st.write(response.json().get('itinerary'))\n"
      ],
      "metadata": {
        "colab": {
          "base_uri": "https://localhost:8080/"
        },
        "id": "pV9msR8ds8lv",
        "outputId": "2d2a1a09-4340-42ee-de2f-54dd393dff93"
      },
      "execution_count": null,
      "outputs": [
        {
          "output_type": "stream",
          "name": "stderr",
          "text": [
            "2024-11-16 06:39:58.959 WARNING streamlit.runtime.scriptrunner_utils.script_run_context: Thread 'MainThread': missing ScriptRunContext! This warning can be ignored when running in bare mode.\n",
            "2024-11-16 06:39:59.125 \n",
            "  \u001b[33m\u001b[1mWarning:\u001b[0m to view this Streamlit app on a browser, run it with the following\n",
            "  command:\n",
            "\n",
            "    streamlit run /usr/local/lib/python3.10/dist-packages/colab_kernel_launcher.py [ARGUMENTS]\n",
            "2024-11-16 06:39:59.128 Thread 'MainThread': missing ScriptRunContext! This warning can be ignored when running in bare mode.\n",
            "2024-11-16 06:39:59.131 Thread 'MainThread': missing ScriptRunContext! This warning can be ignored when running in bare mode.\n",
            "2024-11-16 06:39:59.134 Thread 'MainThread': missing ScriptRunContext! This warning can be ignored when running in bare mode.\n",
            "2024-11-16 06:39:59.137 Thread 'MainThread': missing ScriptRunContext! This warning can be ignored when running in bare mode.\n",
            "2024-11-16 06:39:59.139 Thread 'MainThread': missing ScriptRunContext! This warning can be ignored when running in bare mode.\n",
            "2024-11-16 06:39:59.140 Session state does not function when running a script without `streamlit run`\n",
            "2024-11-16 06:39:59.142 Thread 'MainThread': missing ScriptRunContext! This warning can be ignored when running in bare mode.\n",
            "2024-11-16 06:39:59.143 Thread 'MainThread': missing ScriptRunContext! This warning can be ignored when running in bare mode.\n",
            "2024-11-16 06:39:59.145 Thread 'MainThread': missing ScriptRunContext! This warning can be ignored when running in bare mode.\n",
            "2024-11-16 06:39:59.146 Thread 'MainThread': missing ScriptRunContext! This warning can be ignored when running in bare mode.\n",
            "2024-11-16 06:39:59.148 Thread 'MainThread': missing ScriptRunContext! This warning can be ignored when running in bare mode.\n",
            "2024-11-16 06:39:59.150 Thread 'MainThread': missing ScriptRunContext! This warning can be ignored when running in bare mode.\n",
            "2024-11-16 06:39:59.152 Thread 'MainThread': missing ScriptRunContext! This warning can be ignored when running in bare mode.\n",
            "2024-11-16 06:39:59.155 Thread 'MainThread': missing ScriptRunContext! This warning can be ignored when running in bare mode.\n",
            "2024-11-16 06:39:59.157 Thread 'MainThread': missing ScriptRunContext! This warning can be ignored when running in bare mode.\n",
            "2024-11-16 06:39:59.158 Thread 'MainThread': missing ScriptRunContext! This warning can be ignored when running in bare mode.\n",
            "2024-11-16 06:39:59.160 Thread 'MainThread': missing ScriptRunContext! This warning can be ignored when running in bare mode.\n",
            "2024-11-16 06:39:59.161 Thread 'MainThread': missing ScriptRunContext! This warning can be ignored when running in bare mode.\n",
            "2024-11-16 06:39:59.163 Thread 'MainThread': missing ScriptRunContext! This warning can be ignored when running in bare mode.\n",
            "2024-11-16 06:39:59.164 Thread 'MainThread': missing ScriptRunContext! This warning can be ignored when running in bare mode.\n",
            "2024-11-16 06:39:59.166 Thread 'MainThread': missing ScriptRunContext! This warning can be ignored when running in bare mode.\n",
            "2024-11-16 06:39:59.167 Thread 'MainThread': missing ScriptRunContext! This warning can be ignored when running in bare mode.\n",
            "2024-11-16 06:39:59.169 Thread 'MainThread': missing ScriptRunContext! This warning can be ignored when running in bare mode.\n",
            "2024-11-16 06:39:59.170 Thread 'MainThread': missing ScriptRunContext! This warning can be ignored when running in bare mode.\n",
            "2024-11-16 06:39:59.173 Thread 'MainThread': missing ScriptRunContext! This warning can be ignored when running in bare mode.\n",
            "2024-11-16 06:39:59.175 Thread 'MainThread': missing ScriptRunContext! This warning can be ignored when running in bare mode.\n",
            "2024-11-16 06:39:59.176 Thread 'MainThread': missing ScriptRunContext! This warning can be ignored when running in bare mode.\n",
            "2024-11-16 06:39:59.178 Thread 'MainThread': missing ScriptRunContext! This warning can be ignored when running in bare mode.\n",
            "2024-11-16 06:39:59.179 Thread 'MainThread': missing ScriptRunContext! This warning can be ignored when running in bare mode.\n",
            "2024-11-16 06:39:59.181 Thread 'MainThread': missing ScriptRunContext! This warning can be ignored when running in bare mode.\n",
            "2024-11-16 06:39:59.182 Thread 'MainThread': missing ScriptRunContext! This warning can be ignored when running in bare mode.\n",
            "2024-11-16 06:39:59.184 Thread 'MainThread': missing ScriptRunContext! This warning can be ignored when running in bare mode.\n",
            "2024-11-16 06:39:59.185 Thread 'MainThread': missing ScriptRunContext! This warning can be ignored when running in bare mode.\n",
            "2024-11-16 06:39:59.187 Thread 'MainThread': missing ScriptRunContext! This warning can be ignored when running in bare mode.\n",
            "2024-11-16 06:39:59.188 Thread 'MainThread': missing ScriptRunContext! This warning can be ignored when running in bare mode.\n",
            "2024-11-16 06:39:59.192 Thread 'MainThread': missing ScriptRunContext! This warning can be ignored when running in bare mode.\n",
            "2024-11-16 06:39:59.194 Thread 'MainThread': missing ScriptRunContext! This warning can be ignored when running in bare mode.\n",
            "2024-11-16 06:39:59.195 Thread 'MainThread': missing ScriptRunContext! This warning can be ignored when running in bare mode.\n",
            "2024-11-16 06:39:59.197 Thread 'MainThread': missing ScriptRunContext! This warning can be ignored when running in bare mode.\n",
            "2024-11-16 06:39:59.198 Thread 'MainThread': missing ScriptRunContext! This warning can be ignored when running in bare mode.\n",
            "2024-11-16 06:39:59.200 Thread 'MainThread': missing ScriptRunContext! This warning can be ignored when running in bare mode.\n"
          ]
        }
      ]
    },
    {
      "cell_type": "code",
      "source": [
        "\n"
      ],
      "metadata": {
        "colab": {
          "base_uri": "https://localhost:8080/",
          "height": 106
        },
        "id": "ikyuLUae0SGV",
        "outputId": "2fa8e6d0-2f02-476e-dd97-cf7b9c4baf59"
      },
      "execution_count": null,
      "outputs": [
        {
          "output_type": "error",
          "ename": "SyntaxError",
          "evalue": "invalid syntax (<ipython-input-32-301864d53f0b>, line 1)",
          "traceback": [
            "\u001b[0;36m  File \u001b[0;32m\"<ipython-input-32-301864d53f0b>\"\u001b[0;36m, line \u001b[0;32m1\u001b[0m\n\u001b[0;31m    best places to visit  northen\u001b[0m\n\u001b[0m         ^\u001b[0m\n\u001b[0;31mSyntaxError\u001b[0m\u001b[0;31m:\u001b[0m invalid syntax\n"
          ]
        }
      ]
    }
  ]
}